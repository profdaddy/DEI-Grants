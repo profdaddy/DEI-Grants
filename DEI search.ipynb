{
 "cells": [
  {
   "cell_type": "code",
   "execution_count": 1,
   "metadata": {},
   "outputs": [],
   "source": [
    "import requests\n",
    "import json\n",
    "import os\n",
    "from bs4 import BeautifulSoup"
   ]
  },
  {
   "cell_type": "code",
   "execution_count": 116,
   "metadata": {},
   "outputs": [],
   "source": [
    "if not os.path.exists(\"all-words.txt\"):\n",
    "    text_files = ['nyt.txt', 'DEI keywords.txt', 'penamerica.txt']\n",
    "    all_words = load_text(text_files)\n",
    "    with open(\"all_words.txt\", \"w\", encoding=\"utf-8\") as f:\n",
    "        for words in all_words:\n",
    "            f.write(\"%s\\n\" %words)\n",
    "        "
   ]
  },
  {
   "cell_type": "code",
   "execution_count": 115,
   "metadata": {},
   "outputs": [],
   "source": [
    "def load_text(file_list):\n",
    "    all_words = []\n",
    "    for filename in file_list:\n",
    "        with open(filename, \"r\", encoding=\"utf-8\") as f:\n",
    "            for line in f:\n",
    "                \n",
    "                # strip blank space and lower case the token\n",
    "                line = line.strip().lower()\n",
    "\n",
    "                # ignore empty lines and that start with an asterisk \n",
    "                if (line != '') and not line.startswith(\"*\"):\n",
    "                    all_words.append(line)\n",
    " \n",
    "    # get unique words\n",
    "    return sorted(set(all_words))    "
   ]
  },
  {
   "cell_type": "code",
   "execution_count": null,
   "metadata": {},
   "outputs": [
    {
     "name": "stdout",
     "output_type": "stream",
     "text": [
      "['activism', 'activist', 'activists', 'advocacy', 'advocate', 'advocates', 'affirmative action', 'bias toward', 'bias towards', 'biased', 'biased toward', 'biased towards', 'biases', 'biases toward', 'biases towards', 'decolonization', 'decolonize', 'decolonized', 'decolonizing', 'desegregate', 'desegregated', 'desegregates', 'desegregation', 'decolonization', 'decolonize', 'decolonized', 'decolonizing', 'desegregate', 'desegregated', 'desegregates', 'desegregation', 'discriminate', 'discriminated', 'discrimination', 'discriminatory', 'divisiveness', 'excluded', 'exclusion', 'exclusive', 'feel seen and heard', 'hate speech', 'historically', 'implicit bias', 'implicit biases', 'injustice', 'injustices', 'institutional', 'institutionalize', 'institutionalized', 'institutionally', 'intergenerational trauma', 'intersectional', 'intersectionality', 'marginalization', 'marginalize', 'marginalized', 'micro aggression', 'micro aggressions', 'micro aggressive', 'micro aggressiveness', 'microaggression', 'microaggressions', 'microaggressive', 'microaggressiveness', 'minorities', 'minority', 'oppressed', 'oppressive', 'oppressiveness', 'oppression', 'polarization', 'polarize', 'politicization', 'politicize', 'political', 'prejudice', 'prejudices', 'privilege', 'privileged', 'privileges', 'reparation', 'reparations', 'segregated', 'segregation', 'socio economic', 'socioeconomic', 'status', 'statuses', 'stereotype', 'stereotypes', 'stereotypical', 'stereotyping', 'system of oppression', 'systematic oppression', 'systematically oppressed', 'systemic', 'systemic oppression', 'systemical', 'systemically', 'systemically oppressed', 'systems of oppression', 'systems of power', 'trauma', 'traumatic', 'under appreciated', 'under appreciation', 'under privilege', 'under privileged', 'under representation', 'under represented', 'under served', 'under serving', 'undervalued', 'under valuing', 'underappreciated', 'underappreciation', 'underprivilege', 'underprivileged', 'underrepresentation', 'underrepresented', 'underserved', 'underserving', 'undervalued', 'undervaluing', 'unjust', 'victim', 'victimhood', 'victimized', 'victims', 'voices are acknowledged', 'voices heard', 'voicesmatter', 'unequal opportunities', 'unequal opportunity', 'safe space', 'safe spaces', 'sense ofbelonging', 'sense of belongingness', 'welcoming environment', 'barrier', 'barriers', 'disabilities', 'disability', 'ally', 'allyship', 'advance diversity', 'advance inclusivity', 'advance the diversity', 'advancing diversity', 'advancinginclusive', 'alliance for diversity', 'background inclusivity', 'bi cultural', 'bicultural', 'black cultural', 'black culture', 'black cultures', 'broaden diversity', 'broaden the diversity', 'commitment to diversity', 'community diversity', 'community equity', 'community inclusivity', 'cultural activism', 'culturalactivist', 'cultural activists', 'cultural advocacy', 'cultural advocate', 'cultural and ethnic', 'cultural and racial', 'cultural appropriation', 'cultural appropriations', 'cultural bias', 'culturalcompetency', 'cultural connections', 'cultural differences', 'cultural heritage', 'cultural humility', 'cultural inequalities', 'cultural inequality', 'cultural inequities', 'cultural inequity', 'culturalinjustice', 'cultural injustices', 'cultural justice', 'cultural relevance', 'cultural segregation', 'culturally attuned', 'culturally biased', 'culturally responsive', 'culturally sensitive', 'culturallysustainable', 'culturally sustaining', 'culture and ethnicity', 'culture and race', 'cultures andethnicities', 'cultures and races', 'dei', 'deij', 'diverse background', 'diverse backgrounds', 'diversecommunities', 'diverse community', 'diverse group', 'diverse groups', 'diverse individual', 'diverseindividuals', 'diverse status', 'diverse statuses', 'diverse voices', 'diversified', 'diversify', 'diversifying', 'diversity and equity', 'diversity and inclusion', 'diversity and inclusivity', 'diversity awareness', 'diversity equity', 'emphasis on diversity', 'emphasize diversity', 'emphasizing diversity', 'encouragediversity', 'encouraging diversity', 'enhance diversity', 'enhance the diversity', 'enhancing diversity', 'equal opportunities', 'equal opportunity', 'equalities', 'equality', 'equitable', 'equitable and inclusive', 'equities', 'equity', 'ethnic and cultural', 'ethnic cultural', 'ethnic culture', 'ethnic cultures', 'ethnicdiversity', 'ethnic equity', 'ethnicities and cultures', 'ethnicity and culture', 'foster diversity', 'fostering diversity', 'fostering inclusive', 'fostering inclusivity', 'fostering the diversity', 'groupequity', 'group inclusivity', 'hispanic cultural', 'hispanic culture', 'hispanic cultures', 'inclusion', 'inclusive', 'inclusive language', 'inclusiveness', 'inclusivity', 'inclusivity and diversity', 'increase diversity', 'increase the diversity', 'increases diversity', 'increases the diversity', 'increasing diversity', 'increasingthe diversity', 'indigenous cultural', 'indigenous culture', 'indigenous cultures', 'inequalities', 'inequality', 'inequitable', 'inequities', 'inequity', 'inter cultural', 'inter culturally', 'intercultural', 'interculturally', 'lack of diversity', 'latinx cultural', 'latinx culture', 'latinx cultures', 'multi cultural', 'multi culturally', 'multicultural', 'multiculturally', 'promote diversity', 'promoting diversity', 'segregated cultures', 'social activism', 'social activist', 'social activists', 'social advocacy', 'socialadvocate', 'social bias', 'social biases', 'social inequalities', 'social inequality', 'social inequities', 'social inequity', 'social injustice', 'social injustices', 'social justice', 'social justice activism', 'socialjustice advocacy', 'social justice advocate', 'socially biased', 'socio cultural', 'socio culturally', 'sociocultural', 'socioculturally', 'structural inequality', 'structural inequity', 'support diversity', 'supporting diversity', 'trans cultural', 'transcultural', 'socially relevant', 'culturally relevant', 'bigot', 'bigotry', 'black female', 'black females', 'black male', 'black males', 'black men', 'black women', 'cisgender', 'cisnormative', 'cisnormativity', 'colored female', 'colored females', 'colored male', 'colored males', 'colored men', 'colored women', 'female', 'female voices', 'females', 'femininity', 'feminism', 'feminist', 'feministic', 'fluid identity', 'gender', 'gender acceptance', 'gender affirmation', 'gender affirming', 'gender and sexual', 'gender appreciation', 'gender based', 'gender binary', 'genderdiscrimination', 'gender disparities', 'gender disparity', 'gender diversity', 'gender dysmorphia', 'genderdysphoria', 'gender fluid', 'gender fluidity', 'gender identity', 'gender ideology', 'gender inclusive', 'gender inclusivity', 'gender marginalized', 'gender minorities', 'gender minority', 'gender neural', 'gender non binary', 'gender non conforming', 'gender nonbinary', 'gender nonconforming', 'gender oppression', 'gender preference', 'gender preferences', 'gender spectrum', 'genderstereotypes', 'gender transition', 'gender transitioning', 'gender typical', 'genders', 'heterosexual', 'hispanic female', 'hispanic females', 'hispanic male', 'hispanic males', 'hispanic men', 'hispanic women', 'historically male', 'indigenous female', 'indigenous females', 'indigenous male', 'indigenous males', 'indigenous men', 'indigenous women', 'intersectional feminism', 'latina female', 'latina females', 'latinamale', 'latina males', 'latina men', 'latina women', 'latinx female', 'latinx females', 'latinx male', 'latinxmales', 'latinx men', 'latinx women', 'lgbt', 'lgbtq', 'lgbtq+', 'lgbtqia', 'male dominant', 'maledominated', 'masculine', 'masculinity', 'mis gender', 'misgender', 'misogynistic', 'misogyny', 'non binary', 'non binary gender', 'non conforming gender', 'nonbinary', 'nonbinary gender', 'nonconforminggender', 'oppressed gender', 'oppressed genders', 'oppressed sexualities', 'pansexual', 'predominatelymale', 'preferred gender', 'preferred identity', 'preferred sex', 'primarily male', 'pronoun', 'pronouns', 'queer theory', 'self identify', 'sex change', 'sex preference', 'sex transition', 'sexism', 'sexist', 'sexual discrimination', 'sexual disparities', 'sexual disparity', 'sexual identity', 'sexual minorities', 'sexualminority', 'sexual preference', 'sexual preferences', 'sexualities', 'sexuality', 'straight white', 'toxicmasculinity', 'transgender', 'transgenderism', 'transitioning gender', 'transitioning sex', 'transjustice', 'transphobia', 'transphobic', 'underrepresented gender', 'voices of women', 'white female', 'whitefemales', 'white male', 'white males', 'white men', 'white women', 'women', 'women and gender', 'women and underrepresented', 'womenunderrepresented', 'anti black', 'anti black racism', 'anti racism', 'anti racist', 'anti white', 'antiblack', 'antiblack racism', 'antiracism', 'antiracist', 'antiwhite', 'bipoc', 'bipocx', 'black and latinx', 'black communities', 'blackcommunity', 'black indigenous and latinx', 'black indigenous and other', 'black indigenous latinx', 'black indigenous other', 'black individual', 'black individuals', 'black intellectualism', 'black livesmatter', 'black minorities', 'black minority', 'black people', 'black person', 'black thought', 'blackvoices', 'blackness', 'colored communities', 'colored community', 'colored individual', 'coloredindividuals', 'colored minorities', 'colored minority', 'colored people', 'colored person', 'coloredvoices', 'critical race theory', 'ethnic and racial', 'ethnic bias', 'ethnic communities', 'ethnic community', 'ethnic identities', 'ethnic identity', 'ethnic individual', 'ethnic individuals', 'ethnic minorities', 'ethnic minority', 'ethnic people', 'ethnic person', 'ethnic racism', 'ethnic segregation', 'ethnic voices', 'ethnical racism', 'ethnicities and races', 'ethnicity', 'ethnicity and race', 'hispanic communities', 'hispanic community', 'hispanic individual', 'hispanic individuals', 'hispanic minorities', 'hispanic minority', 'hispanic people', 'hispanic person', 'hispanic voices', 'historical racism', 'historically racist', 'historically white', 'indigenous communities', 'indigenous community', 'indigenous individual', 'indigenous individuals', 'indigenous minorities', 'indigenous minority', 'indigenous people', 'indigenous person', 'indigenous voices', 'institutional racism', 'institutionalized racism', 'institutionally racist', 'inter racial', 'inter racially', 'interracial', 'interracially', 'latinacommunities', 'latina community', 'latina individual', 'latina individuals', 'latina minorities', 'latina minority', 'latina people', 'latina person', 'latina voices', 'latinx communities', 'latinx community', 'latinx individual', 'latinx individuals', 'latinx minorities', 'latinx minority', 'latinx people', 'latinxperson', 'latinx voices', 'latinx', 'multi ethnic', 'multi ethnically', 'multiethnic', 'multiethnically', 'non black', 'non white', 'nonblack', 'nonwhite', 'people of color', 'poc', 'pocx', 'predominately white', 'primarily white', 'privileged white', 'pro black', 'pro white', 'problack', 'prowhite', 'race and culture', 'race andethnicity', 'race based', 'racebased', 'races and cultures', 'races and ethnicities', 'racial', 'racial and cultural', 'racial and ethnic', 'racial bias', 'racial biases', 'racial disparities', 'racial disparity', 'racial diversity', 'racial identity', 'racial inequalities', 'racial inequality', 'racial inequities', 'racial inequity', 'racial injustice', 'racial injustices', 'racial justice', 'racial minorities', 'racial minority', 'racial oppression', 'racial prejudice', 'racial prejudices', 'racial segregation', 'racial socialization', 'racial solidarity', 'racial stereotypes', 'racial violence', 'racially', 'racially and culturally', 'racially bias', 'racially biased', 'racially oppressed', 'racism', 'racist', 'segregated ethnicities', 'segregated ethnicity', 'segregated race', 'segregated races', 'structural racism', 'structurally racist', 'systemic racism', 'systemically racist', 'tokenistic', 'tokensim', 'trans ethnic', 'transethnic', 'white colonialism', 'white colonization', 'white colonizer', 'white colonizers', 'white fragility', 'white historically', 'white nationalism', 'white nationalist', 'white people', 'white person', 'white privilege', 'white serving', 'whitesupremacy', 'whiteness', 'climate action', 'climate conscious', 'climate consciousness', 'climate equality', 'climate equity', 'climate justice', 'climate research', 'eco cultural', 'ecocultural', 'environment conscious', 'environment consciousness', 'environmental conscious', 'environmental consciousness', 'environmental equality', 'environmental equity', 'environmental governance', 'environmental justice', 'environmental social', 'environmental governance', 'environmentally conscious', 'environmental social', 'esg', 'esg effort', 'esg efforts', 'esg initiative', 'esg initiatives', 'green newdeal', 'net zero', 'netzero', 'social environmental', 'social environmental', 'climate injustice', 'climate justices', 'climate injustices', 'climate change', 'green infrastructure', 'green society', 'clean energy']\n"
     ]
    }
   ],
   "source": [
    "# try loading one text file\n",
    "words =load_text(['DEI keywords.txt'])\n",
    "print(words)"
   ]
  },
  {
   "cell_type": "code",
   "execution_count": 34,
   "metadata": {},
   "outputs": [],
   "source": [
    "def clean_text(text):\n",
    "    cleaned_text = [token.lower() for token in text]\n",
    "    return cleaned_text\n",
    "\n",
    "def clean_abstract_text(text):\n",
    "    \"\"\"clean the abstract text and return the new version\n",
    "    Parameters:\n",
    "    text: str\n",
    "    The text you want cleaned.\n",
    "\n",
    "    Returns:\n",
    "    --------\n",
    "    clean string\n",
    "    \"\"\"\n",
    "    # get rid of line breaks and make every lowercase\n",
    "    cleaned_text = text.replace('<br/>', '').lower()\n",
    "\n",
    "    return cleaned_text\n"
   ]
  },
  {
   "cell_type": "code",
   "execution_count": 55,
   "metadata": {},
   "outputs": [],
   "source": [
    "def get_abstract_text(url): \n",
    "    \"\"\"Lookup an NSF award at url and return it's title and abstract.\n",
    "\n",
    "    Parameters:\n",
    "    -----------\n",
    "    url : str\n",
    "    URL of the NSF award page\n",
    "\n",
    "    Return:\n",
    "    -------\n",
    "    title : str\n",
    "    title of the award\n",
    "\n",
    "    abstract_text : str\n",
    "    award abstract\n",
    "\n",
    "    \"\"\"\n",
    "\n",
    "      # Send a GET request to the web page\n",
    "    response = requests.get(url)\n",
    "\n",
    "    # Parse the HTML content using BeautifulSoup\n",
    "    soup = BeautifulSoup(response.content, 'html5lib')\n",
    "\n",
    "    # Below parses the NSF abstracts. You need different code for IES, NIH, etc.\n",
    "    # Find the title of the grant\n",
    "    title = soup.find('div', class_='pageheadline').text\n",
    "\n",
    "    # Find the heading \"Abstract\" and get the text under it\n",
    "    abstract_heading = soup.find('strong', class_='greybold', string='ABSTRACT')\n",
    "    abstract_text = abstract_heading.find_next('span').text\n",
    "\n",
    "    return title, abstract_text"
   ]
  },
  {
   "cell_type": "code",
   "execution_count": 56,
   "metadata": {},
   "outputs": [],
   "source": [
    "def scan_for_keywords(abstract, DEI_dict):\n",
    "    \"\"\"Look through the abstract and return any keywords found in the DEI_dict.\n",
    "    Parameters:\n",
    "    abstract : str \n",
    "        text you want to scan\n",
    "    DEI_dict : dict\n",
    "        Dictionary with keywords separated by sections (keys)\n",
    "\n",
    "    Returns:\n",
    "    list\n",
    "        a list of keywords found in the text\n",
    "    \"\"\"  \n",
    "\n",
    "    # list of keywords found in the abstract\n",
    "    keywords_found = []\n",
    "\n",
    "    for key in DEI_dict.keys():\n",
    "        for keyword in DEI_dict[key]:\n",
    "            if keyword in abstract:\n",
    "                keywords_found.append(keyword)\n",
    "\n",
    "    return keywords_found"
   ]
  },
  {
   "cell_type": "code",
   "execution_count": null,
   "metadata": {},
   "outputs": [],
   "source": [
    "def load_keywords(filename='DEI keywords.txt'):\n",
    "    # see if there's a JSON version\n",
    "    if os.path.isfile('DEI_keywords.json'):\n",
    "        with open('DEI_keywords.json', \"r\") as fp:\n",
    "            DEI_dict = json.load(fp)\n",
    "            return DEI_dict\n",
    "\n",
    "    # First, read the evil keywords and store them in a dictionary\n",
    "    text = \"\"\n",
    "    with open(filename, 'r') as f:\n",
    "        text = [line.strip().lower() for line in f]\n",
    "\n",
    "    DEI_dict = clean_text(text)\n",
    "    return DEI_dict\n",
    "\n",
    "def scan_awards(url_list):\n",
    "    # First, read the evil keywords and store them in a dictionary\n",
    "    DEI_dict = load_keywords()\n",
    "\n",
    "    keyword_report = {}\n",
    "\n",
    "    # Now check each award in the url_list\n",
    "    for url in url_list:\n",
    "        title, abstract_text = get_abstract_text(url)\n",
    "        abstract_text = clean_abstract_text(abstract_text)\n",
    "\n",
    "        keywords_found = scan_for_keywords(abstract_text, DEI_dict)\n",
    "        keyword_report[title] = keywords_found\n",
    "\n",
    "    return keyword_report\n",
    "        \n",
    "\n"
   ]
  },
  {
   "cell_type": "code",
   "execution_count": null,
   "metadata": {},
   "outputs": [],
   "source": [
    "def print_report(report_dict):\n",
    "    for key in report_dict.keys():\n",
    "        print(key)\n",
    "        print(\"Abstract contains these key phrases:\")\n",
    "        print(report_dict[key], \"\\n\")\n"
   ]
  },
  {
   "cell_type": "code",
   "execution_count": 59,
   "metadata": {},
   "outputs": [
    {
     "name": "stdout",
     "output_type": "stream",
     "text": [
      "load json\n",
      "Collaborative Research: The Smart Playground: Computational Thinking through Robotics in Early Childhood\n",
      "Abstract contains these key phrases:\n",
      "['underserved', 'ally', 'culturally sustaining', 'latinx'] \n",
      "\n",
      "Early childhood maker literacies: Fostering computational thinking among Navajo youth and educators\n",
      "Abstract contains these key phrases:\n",
      "['ally', 'cultural relevance', 'culturally responsive'] \n",
      "\n"
     ]
    }
   ],
   "source": [
    "report_dict = scan_awards([\"https://www.nsf.gov/awardsearch/showAward?AWD_ID=2301248&HistoricalAwards=false\", \"https://www.nsf.gov/awardsearch/showAward?AWD_ID=2342370&HistoricalAwards=false\"])\n",
    "\n",
    "print_report(report_dict)"
   ]
  },
  {
   "cell_type": "code",
   "execution_count": 60,
   "metadata": {},
   "outputs": [],
   "source": [
    "coley = \"PROJECT SUMMARY/ABSTRACT Following decades of discriminatory policies and underinvestment in affordable housing, the 1.2 million households residing in our nation’s public housing (PH) developments often live in conditions of concentrated poverty, unhealthy and unstable housing and community contexts, and constrained social and economic opportunity. These social determinants of health drive substantial health disparities, with PH residents experiencing elevated levels of mortality and morbidity across numerous health domains. In response, current policy efforts seek to redevelop PH into mixed-income communities in order to deconcentrate poverty, create healthier housing environments, decrease community stressors, and enhance community resources. It is essential to delineate the repercussions of such policies on health disparities and to understand the mechanisms underlying effects. This project seeks to exploit a multi-arm natural experiment of PH redevelopment to evaluate whether improving housing quality, limiting external displacement, and creating mixed-income communities improve the physical, mental, and behavioral health of PH residents, including children, adults, and older adults. We will further assess the social, environmental, and physiological mechanisms underlying such effects. Finally, we will address whether effects vary across resident age, gender, and race/ethnicity. The study will employ a rigorous mixed-methods design to follow 1068 individuals from 600 households in a Boston PH community undergoing redevelopment. The redevelopment plan will move quasi-randomly selected subsets of residents into new high quality PH, or displace them offsite followed by a return into new high quality mixed-income housing. We will compare these residents to a matched control group who will remain in place. Our interdisciplinary team will collect four waves of in-person surveys, direct environmental assessments, and direct physiological stress measurements, as well as annual geocoded administrative data and intensive qualitative interviews with a subset of respondents. This innovative combination of sources will provide data on resident physical, mental and behavioral health; physiological stress; social connections and collective efficacy; housing quality and disorder; and neighborhood crime, pollution, social problems and resources. Intent-to-treat, difference-in-differences, and average treatment effect models will provide rigorous evidence of how housing quality, residential displacement, and residence in mixed-income housing affect resident health. Structural equation models and qualitative analyses will identify mechanisms underlying housing effects. Our results, unearthing causal and dynamic processes underlying health disparities, will provide innovative new data on social determinants of health to inform models of housing and community redevelopment in the context of concentrated poverty.\""
   ]
  },
  {
   "cell_type": "code",
   "execution_count": 61,
   "metadata": {},
   "outputs": [
    {
     "name": "stdout",
     "output_type": "stream",
     "text": [
      "load json\n"
     ]
    },
    {
     "data": {
      "text/plain": [
       "['discriminatory', 'ally', 'gender', 'ethnicity']"
      ]
     },
     "execution_count": 61,
     "metadata": {},
     "output_type": "execute_result"
    }
   ],
   "source": [
    "DEI_dict = load_keywords()\n",
    "scan_for_keywords(coley, DEI_dict)"
   ]
  },
  {
   "cell_type": "code",
   "execution_count": 62,
   "metadata": {},
   "outputs": [],
   "source": [
    "heather = \"We propose a NSF S-STEM Track 2: Implementation track to award scholarships to 38 financially disadvantaged (Pell-eligible), academically talented (≥ 3.0 GPA) STEM students over a six-year period. The proposed program will provide holistic educational experiences by 1) identifying students with academic and socioeconomic risk factors prior to arrival on campus; 2) implementing the modified STEM for Life seminar series, 3) creating and implementing the novel Resilience in STEM Students Program including an embedded counselor in the STEM LLC, 4) offering numerous student support elements, and 5) creating a formalized and tracked peer mentoring component. The combined elements will increase the likelihood of student success in STEM fields. The proposed program will contribute to the body of knowledge to determine the efficacy of the novel embedded counselor in the STEM residence hall coupled with the strategic interventions developed and implemented based on lessons learned from our 14-year history of supporting underserved STEM students.\"\n"
   ]
  },
  {
   "cell_type": "code",
   "execution_count": 63,
   "metadata": {},
   "outputs": [
    {
     "data": {
      "text/plain": [
       "['socioeconomic', 'underserved', 'ally']"
      ]
     },
     "execution_count": 63,
     "metadata": {},
     "output_type": "execute_result"
    }
   ],
   "source": [
    "scan_for_keywords(heather, DEI_dict)"
   ]
  },
  {
   "cell_type": "code",
   "execution_count": 64,
   "metadata": {},
   "outputs": [],
   "source": [
    "sd = \"\"\"Can Corporate Work-Study Programs Increase Economic Mobility and Racial Equity? \n",
    "A Novel Examination of the Cristo Rey Network \n",
    " \n",
    "Proposal summary (2800 characters): \n",
    "In an effort to increase economic opportunities and promote social mobility, the Cristo Rey Network (CRN) of college preparatory high schools facilitate unique work- and school-based learning through a novel Corporate Work-Study Program (CSWP) model that represents a “hybrid” model of professional work-based learning and college preparation. In doing so, disadvantaged students can gain the skills, competencies, and sources of social capital that more advantaged students often have access to. CRN high schools exclusively serve underrepresented minority students with family income in the bottom quartile of the US income distribution. The network has designed a novel CSWP that provides all students with a tangible work-based learning experience one day per week at a local corporation, accompanied with a school-based curriculum that focuses on professional skills and competencies, as well as college preparation. In addition to generating income for the school to help offset the cost of tuition for students, the CWSP model offers a unique opportunity to build professional skills, competencies, and social networks in a corporate setting. While CRN’s CWSP model represents a promising career-connected learning opportunity, rigorous research has yet to explore its ability to promote social mobility. \n",
    "\tWe therefore leverage an expansive partnership with 12 CRN schools across the country, as well as education data from the National Student Clearinghouse (NSC) and economic data from Equifax (EQX) to demonstrate CRN’s impact on social mobility. With unique access to CRN admissions data, we will use arbitrary cut-off scores in the CRN admissions process to conduct a regression discontinuity design (RDD) (Thistlethwaite & Campbell, 1960; Angrist & Pischke, 2008), prioritizing comparisons with individuals directly above and below the cut-off score. As these individuals can be considered only arbitrarily different, we offer a causal analysis of the Cristo Rey program. \n",
    "Research Questions\n",
    "1.\tIntent-to-treat effects. How does being accepted to a CRN school impact students’ social mobility outcomes (employment, earnings, wealth, affluence, credit, home-ownership, and student debt), when compared to similar students who applied but were not accepted into a CRN school?\n",
    "2.\tTreatment-on-treated effects. How does graduating from a CRN school impact students’ social mobility, when compared to similar students who (a) applied but were not accepted, (b) were accepted but did not enroll, and (c) enrolled but did not graduate from a CRN school? \n",
    "3.\tMechanisms of impact. To what extent is the impact on CRN students’ earnings explained by their post-secondary educational attendance and persistence, as well as their post-secondary employment experiences? \n",
    "4.\tHeterogeneous treatment effects. Do we observe similar relationships across individual demographic characteristics (gender, race/ethnicity, poverty, household status) and environmental contextual factors (neighborhood poverty, segregation, surrounding school quality, social vulnerabilities, local labor market dynamics, and implicit biases)? \n",
    "\n",
    " \n",
    "Significance (1800 characters): CRN high schools represent a novel high school model that embeds career-connected learning within a college preparatory environment. Most uniquely, CRN’s career-connected learning occurs in corporate work setting that exposes disadvantaged students to “white-collar” professionals and careers. This exposure not only provides students with non-cognitive skills and professional competencies, but also with new sources of social capital. This reimagined “hybrid” model of professional career-connected learning accompanied by a college preparatory curriculum may be more impactful for promoting post-secondary education attainment and employment in high-skill, white-collar occupations than both traditional college preparatory high schools and CTE schools and career academies. Thus, findings from our research will provide policymakers with some of the first rigorous evidence on whether this hybrid model of professional work-based learning and college preparation can promote social mobility later in life. \n",
    "\tAdditionally, since there is very little research to date on the impact of a public-private partnerships for job training in high schools, we believe these results will also be particularly useful for policymakers considering these types of school models. Finally, there is a large, growing Cristo Rey Network high school in Kansas City that can help connect disadvantaged students to new economic opportunities in the Kansas City region. \n",
    "\n",
    " \n",
    "Measurement, analysis, and outcomes (2600 characters): First, we will use a Regression Discontinuity Design to first how getting an admitted to a Cristo Rey Network (CRN) school impacts employment earnings, debt, wealth, and credit, representing an intent-to-treat effect (RQ1). Second, we will use a multinomial propensity score (MNPS) design to understand how graduating from a CRN school impacts employment earnings, debt, wealth, and credit, representing a treatment-on-treated effect (RQ2). Third, we will examine the potential mediating role of post-secondary education on the impact that CRN attendance has on students’ social mobility outcomes (RQ3). Finally, we will examine how the previously described relationships may vary across individual demographic characteristics and environmental contextual factors (RQ4). \n",
    "\tWe have partnered with 12 schools across 10 states, which will allow us to provide generalizable lessons at a national level. CRN applicants’ personal information (e.g., name, dob, address, and SSN) and application information (e.g., demographic information, admission scores, middle school records, and parents’ employment and income) information—for both admitted and non-admitted students—will be linked to and merged with a variety of social mobility data. Primarily, application information will be linked to and merged with post-secondary education data from the National Student Clearinghouse, and economic data from Equifax. NSC has information from students attending over 3,600 colleges and universities (97% of all students); EQX has detailed credit, debt, and wealth information from over 220 million individuals, as well as earnings and employment information on employees from 2.8 million businesses. The EQX data will not only capture economic outcomes through employment and earnings, but also measures of power, autonomy, security, and dignity through measures of wealth, affluence, homeownership, credit, debt, and financial distress (e.g., late bill payments). Finally, we will merge in community data better understand the environments that shape students’ mobility and contextualize our findings. This will include neighborhood-level demographic data, including poverty and segregation data (American Community Survey), surrounding school quality data (Common Core of Data), social vulnerability data (CDC), local labor market data, including job-postings (Lightcast), and implicit racial bias data (Project Implicit).\n",
    "\tWe will create a series of policy briefs that highlight the policy implications of our findings, working with various think tanks to ensure broad dissemination. Additionally, we will create four academic manuscripts. We will also present our research at various conferences. Finally, we will work together with CRN stakeholders to create various dissemination materials tailored both to CRN schools and their employment partners, including presentations and short reports.  \n",
    "\n",
    " \n",
    "Timeline and high-level budget (1500 characters): In months 1-6, we will clean data and perform descriptive analysis. In months 7-12, we will complete preliminary analyses for research questions 1-4. In months 13-18, we will finalize analyses and draft research manuscripts and briefs. Finally, in months 19-24, we will disseminate research through journals, policy briefs, and conferences.\n",
    "\tOutside of indirect costs ($50,000) data access fees ($40,000), and travel ($10,000), the majority of our budget will be allocated to personnel effort. In addition to a Data Analyst ($50,000), graduate students split across all three universities ($50,000), and FTE support for Cristo Rey Network data managers ($50,000), personnel effort includes summer salary for Jason Jabbari ($75,000) and Shaun Dougherty ($75,000) and consultant fees for Lauren Russell ($50,000) and Fahvyon Jimenez ($50,000). Dr. Jabbari has direct experience working with Equifax data, so he will be primarily responsible for the matching of the CRN data with the Equifax, National Student Clearinghouse, and contextual data, as well as the multinomial propensity score analysis. Dr. Doughtery will be primarily responsible for the RDD analysis. Dr. Russell will primarily be responsible for LinkedIn data analysis, while also providing econometric guidance throughout the project. Mr. Fahvyon Jimenez (Jimenez Strategy & Analytics) has direct experience working with CRN CWSP data—including the data on students’ professional skills. He will be primarily responsible for coordinating with the CRN schools on data transfer, interpretation, and descriptive analyses.\n",
    "\n",
    " \n",
    "Capacity and expertise (1800 characters): Our team includes a diverse group of researchers—both in terms demographic characteristics (e.g., gender, race/ethnicity) and areas of expertise (i.e., economics of education, sociology of education, education policy)—that bring unique professional and practical experiences to this project. Jason Jabbari is an assistant professor at the Brown School at Washington University in St. Louis, as well as the Co-Director of the Social Policy Institute. Shaun M. Dougherty is a Professor of Education & Policy at Boston College’s Lynch School of Education & Human Development, as well as the Director of the Catholic Education Research Initiative. Lauren Russell is a Professor of Practice and the Penn and Robert A. Fox Director at the Fels Institute of Government at the University of Pennsylvania. Mr. Fahvyon Jimenez is the founder of Jimenez Strategy & Analytics, where he and his team apply human-centered design and data science techniques to help schools, nonprofits, and small businesses use technology and data to better deliver on their missions. All investigators have direct experience in collecting and cleaning k-12 education data, merging it with post-secondary and labor market data, and using a variety of advanced quantitative methodologies to generate robust results. Beyond our professional experiences, we have unique personal experiences that will facilitate the success of this project as well. Both Dr. Jabbari and Dr. Dougherty have taught and served as school leaders in urban high schools. Dr. Jabbari has also worked in a Jesuit “Mission” school to that shares many characteristics with CRN schools, and Mr. Jiminez spent three years working full-time at CRN as the Chief Technology Officer.\n",
    "\"\"\""
   ]
  },
  {
   "cell_type": "code",
   "execution_count": 65,
   "metadata": {},
   "outputs": [
    {
     "data": {
      "text/plain": [
       "['biases',\n",
       " 'exclusive',\n",
       " 'implicit bias',\n",
       " 'implicit biases',\n",
       " 'minority',\n",
       " 'reparation',\n",
       " 'segregation',\n",
       " 'status',\n",
       " 'underrepresented',\n",
       " 'ally',\n",
       " 'diverse group',\n",
       " 'gender',\n",
       " 'ethnicity',\n",
       " 'racial',\n",
       " 'racial bias']"
      ]
     },
     "execution_count": 65,
     "metadata": {},
     "output_type": "execute_result"
    }
   ],
   "source": [
    "scan_for_keywords(sd, DEI_dict)"
   ]
  },
  {
   "cell_type": "markdown",
   "metadata": {},
   "source": []
  },
  {
   "cell_type": "code",
   "execution_count": null,
   "metadata": {},
   "outputs": [],
   "source": [
    "  for key in DEI_dict.keys():\n",
    "    keywords_found = []\n",
    "    match = []\n",
    "    for keyword in DEI_dict[key]:\n",
    "      print(keyword)\n",
    "      match = find_phrase(keyword, proposal_text)\n",
    "      if match:\n",
    "        keywords_found.append(keyword)\n",
    "      \n",
    "    if keywords_found:      \n",
    "      keywords_by_section[key] = keywords_found    \n",
    "\n",
    "  return keywords_by_section"
   ]
  }
 ],
 "metadata": {
  "kernelspec": {
   "display_name": "datascience",
   "language": "python",
   "name": "python3"
  },
  "language_info": {
   "codemirror_mode": {
    "name": "ipython",
    "version": 3
   },
   "file_extension": ".py",
   "mimetype": "text/x-python",
   "name": "python",
   "nbconvert_exporter": "python",
   "pygments_lexer": "ipython3",
   "version": "3.12.2"
  }
 },
 "nbformat": 4,
 "nbformat_minor": 2
}
